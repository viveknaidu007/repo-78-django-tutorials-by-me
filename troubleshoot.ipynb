{
 "cells": [
  {
   "cell_type": "code",
   "execution_count": null,
   "metadata": {},
   "outputs": [],
   "source": [
    "#after installing mysql u will get like this:\n",
    "#if this error occurs do this:"
   ]
  },
  {
   "cell_type": "markdown",
   "metadata": {},
   "source": [
    "C:\\Users\\poppo>mysql -u root -p\n",
    "'mysql' is not recognized as an internal or external command,\n",
    "operable program or batch file.\n",
    "\n",
    "solution:\n",
    "\n",
    "It seems like your system couldn't recognize the mysql command. This usually happens when MySQL is not installed properly or its executable path is not added to the system's PATH variable.\n",
    "\n",
    "To resolve this, you can try the following steps:\n",
    "\n",
    "    Verify Installation: Make sure MySQL is installed on your system. You can check this by searching for MySQL in your program files or by checking the installed programs list.\n",
    "\n",
    "    Check PATH Variable: Ensure that the MySQL bin directory is added to your system's PATH variable. This allows the system to find the MySQL executable files. You can do this by:\n",
    "        Right-clicking on \"This PC\" or \"My Computer\" and selecting \"Properties.\"\n",
    "        In the System window, click on \"Advanced system settings\" on the left.\n",
    "        In the System Properties window, click on the \"Environment Variables\" button.\n",
    "        In the Environment Variables window, under \"System variables,\" find the \"Path\" variable and select it. Click \"Edit...\"\n",
    "        Add the path to your MySQL bin directory (usually something like C:\\Program Files\\MySQL\\MySQL Server X.Y\\bin) to the list of paths. Separate each path with a semicolon if there are multiple paths listed.\n",
    "\n",
    "    Restart Your System: After making changes to the PATH variable, restart your system to ensure the changes take effect.\n",
    "\n",
    "    Verify Installation Again: After restarting, open a new command prompt and try running the mysql command again."
   ]
  },
  {
   "cell_type": "code",
   "execution_count": null,
   "metadata": {},
   "outputs": [],
   "source": [
    "#above works for me after restarting"
   ]
  }
 ],
 "metadata": {
  "language_info": {
   "name": "python"
  }
 },
 "nbformat": 4,
 "nbformat_minor": 2
}
